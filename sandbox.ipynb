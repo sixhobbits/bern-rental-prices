{
 "cells": [
  {
   "cell_type": "code",
   "execution_count": 69,
   "metadata": {},
   "outputs": [],
   "source": []
  },
  {
   "cell_type": "code",
   "execution_count": 70,
   "metadata": {},
   "outputs": [],
   "source": []
  },
  {
   "cell_type": "code",
   "execution_count": 101,
   "metadata": {},
   "outputs": [],
   "source": [
    "import pandas as pd\n",
    "import re\n",
    "df = pd.read_csv(\"https://bern.dwyer.co.za\")\n",
    "\n",
    "def get_price(price):\n",
    "    words = price.split()\n",
    "    if price.startswith(\"CHF \"):\n",
    "        int_price = words[1].replace('’', '')\n",
    "        int_price = float(int_price)\n",
    "        return int_price\n",
    "    return None\n",
    "\n",
    "def get_post_code(address):\n",
    "    reg_postcode = r\"\\d\\d\\d\\d \"\n",
    "    # if there is a four digit house number, then the post code will be the last match\n",
    "    postcode = re.findall(reg_postcode, address)[-1].strip()\n",
    "    return postcode\n",
    "    \n",
    "def get_city(address):\n",
    "    reg_postcode = r\"\\d\\d\\d\\d \"\n",
    "    # if there is a four digit house number, then the post code will be the last match\n",
    "    comps = re.split(reg_postcode, address)\n",
    "    return comps[-1]  \n",
    "\n",
    "def get_num_rooms(rooms):\n",
    "    try:\n",
    "        if rooms.startswith(\",\"):\n",
    "            return None\n",
    "        # either `1 rooms , 56m2` or \n",
    "        # `1 rooms`\n",
    "        rms, _ = rooms.split(\" , \")\n",
    "        int_rooms = float(rms.split()[0])\n",
    "        if \"½\" in rooms:\n",
    "            int_rooms += 0.5\n",
    "        return int_rooms\n",
    "    except:\n",
    "        return None\n",
    "    \n",
    "def get_size(rooms):\n",
    "    try:\n",
    "        _, sqm = rooms.split(\", \")\n",
    "        int_sqm = sqm.split(\"m²\")[0]\n",
    "        return int_sqm\n",
    "    except Exception as e:\n",
    "        return None\n",
    "    \n",
    "def is_shared(description):\n",
    "    return \" shared \" in description.lower()\n",
    "\n",
    "def is_temporary(additional_info):\n",
    "    try:\n",
    "        return \"temporary\" in additional_info.lower()\n",
    "    except:\n",
    "        return False\n",
    "\n",
    "def is_furnished(additional_info):\n",
    "    try:\n",
    "        return \"furnished\" in additional_info.lower()\n",
    "    except:\n",
    "        return False\n",
    "\n",
    "df['price'] = df['price'].apply(get_price)\n",
    "df['post_code'] = df['address'].apply(get_post_code)\n",
    "df['city'] = df['address'].apply(get_city)\n",
    "df['num_rooms'] = df['rooms'].apply(get_num_rooms)\n",
    "df['size'] = df['rooms'].apply(get_size)\n",
    "df['shared'] = df['description'].apply(is_shared)\n",
    "df['temporary'] = df['additional_info'].apply(is_temporary)\n",
    "df['furnished'] = df['additional_info'].apply(is_furnished)\n",
    "df = df.drop(columns=['url', 'description', 'address', 'additional_info', 'rooms', 'reference'])\n",
    "df.to_csv(\"bern_clean.csv\")"
   ]
  },
  {
   "cell_type": "code",
   "execution_count": 72,
   "metadata": {},
   "outputs": [],
   "source": []
  },
  {
   "cell_type": "code",
   "execution_count": 83,
   "metadata": {},
   "outputs": [
    {
     "data": {
      "text/plain": [
       "<AxesSubplot:xlabel='num_rooms'>"
      ]
     },
     "execution_count": 83,
     "metadata": {},
     "output_type": "execute_result"
    },
    {
     "data": {
      "image/png": "[encoded data removed]",
      "text/plain": [
       "<Figure size 432x288 with 1 Axes>"
      ]
     },
     "metadata": {
      "needs_background": "light"
     },
     "output_type": "display_data"
    }
   ],
   "source": [
    "df[['num_rooms', 'price']].groupby('num_rooms').mean().plot.bar()\n"
   ]
  },
  {
   "cell_type": "code",
   "execution_count": 84,
   "metadata": {},
   "outputs": [
    {
     "data": {
      "text/plain": [
       "<AxesSubplot:xlabel='num_rooms'>"
      ]
     },
     "execution_count": 84,
     "metadata": {},
     "output_type": "execute_result"
    },
    {
     "data": {
      "image/png": "[encoded data removed]",
      "text/plain": [
       "<Figure size 432x288 with 1 Axes>"
      ]
     },
     "metadata": {
      "needs_background": "light"
     },
     "output_type": "display_data"
    }
   ],
   "source": [
    "df[['num_rooms', 'price']].groupby('num_rooms').count().plot.bar()\n",
    "\n"
   ]
  },
  {
   "cell_type": "code",
   "execution_count": null,
   "metadata": {},
   "outputs": [],
   "source": [
    "\n",
    "\n"
   ]
  },
  {
   "cell_type": "code",
   "execution_count": 55,
   "metadata": {},
   "outputs": [],
   "source": []
  },
  {
   "cell_type": "code",
   "execution_count": 56,
   "metadata": {},
   "outputs": [
    {
     "data": {
      "text/html": [
       "<div>\n",
       "<style scoped>\n",
       "    .dataframe tbody tr th:only-of-type {\n",
       "        vertical-align: middle;\n",
       "    }\n",
       "\n",
       "    .dataframe tbody tr th {\n",
       "        vertical-align: top;\n",
       "    }\n",
       "\n",
       "    .dataframe thead th {\n",
       "        text-align: right;\n",
       "    }\n",
       "</style>\n",
       "<table border=\"1\" class=\"dataframe\">\n",
       "  <thead>\n",
       "    <tr style=\"text-align: right;\">\n",
       "      <th></th>\n",
       "      <th>date</th>\n",
       "      <th>description</th>\n",
       "      <th>address</th>\n",
       "      <th>additional_info</th>\n",
       "      <th>price</th>\n",
       "      <th>rooms</th>\n",
       "      <th>post_code</th>\n",
       "      <th>city</th>\n",
       "      <th>num_rooms</th>\n",
       "      <th>size</th>\n",
       "      <th>shared</th>\n",
       "    </tr>\n",
       "  </thead>\n",
       "  <tbody>\n",
       "    <tr>\n",
       "      <th>0</th>\n",
       "      <td>2021-04-09T11:10:56.103828</td>\n",
       "      <td>3 rooms apartment</td>\n",
       "      <td>Schermenweg 182, 3072 Ostermundigen</td>\n",
       "      <td>NaN</td>\n",
       "      <td>1310.0</td>\n",
       "      <td>3 rooms , 65m²</td>\n",
       "      <td>3072</td>\n",
       "      <td>Ostermundigen</td>\n",
       "      <td>3.0</td>\n",
       "      <td>65</td>\n",
       "      <td>False</td>\n",
       "    </tr>\n",
       "    <tr>\n",
       "      <th>1</th>\n",
       "      <td>2021-04-09T15:39:18.600911</td>\n",
       "      <td>2 ½ rooms apartment</td>\n",
       "      <td>Grauholzstr. 78, 3063 Ittigen</td>\n",
       "      <td>NaN</td>\n",
       "      <td>1250.0</td>\n",
       "      <td>2 ½ rooms , 68m²</td>\n",
       "      <td>3063</td>\n",
       "      <td>Ittigen</td>\n",
       "      <td>2.5</td>\n",
       "      <td>68</td>\n",
       "      <td>False</td>\n",
       "    </tr>\n",
       "    <tr>\n",
       "      <th>2</th>\n",
       "      <td>2021-04-09T15:39:18.600982</td>\n",
       "      <td>2 ½ rooms apartment</td>\n",
       "      <td>Grauholzstr. 78, 3063 Ittigen</td>\n",
       "      <td>NaN</td>\n",
       "      <td>1250.0</td>\n",
       "      <td>2 ½ rooms , 68m²</td>\n",
       "      <td>3063</td>\n",
       "      <td>Ittigen</td>\n",
       "      <td>2.5</td>\n",
       "      <td>68</td>\n",
       "      <td>False</td>\n",
       "    </tr>\n",
       "    <tr>\n",
       "      <th>3</th>\n",
       "      <td>2021-04-09T15:39:18.601030</td>\n",
       "      <td>4 ½ rooms apartment</td>\n",
       "      <td>Grauholzstr. 76, 3063 Ittigen</td>\n",
       "      <td>NaN</td>\n",
       "      <td>1710.0</td>\n",
       "      <td>4 ½ rooms , 113m²</td>\n",
       "      <td>3063</td>\n",
       "      <td>Ittigen</td>\n",
       "      <td>4.5</td>\n",
       "      <td>113</td>\n",
       "      <td>False</td>\n",
       "    </tr>\n",
       "    <tr>\n",
       "      <th>4</th>\n",
       "      <td>2021-04-09T17:01:22.411888</td>\n",
       "      <td>2 rooms apartment</td>\n",
       "      <td>Murtenstrasse 143 B, 3008 Bern</td>\n",
       "      <td>NaN</td>\n",
       "      <td>1350.0</td>\n",
       "      <td>2 rooms , 40m²</td>\n",
       "      <td>3008</td>\n",
       "      <td>Bern</td>\n",
       "      <td>2.0</td>\n",
       "      <td>40</td>\n",
       "      <td>False</td>\n",
       "    </tr>\n",
       "    <tr>\n",
       "      <th>...</th>\n",
       "      <td>...</td>\n",
       "      <td>...</td>\n",
       "      <td>...</td>\n",
       "      <td>...</td>\n",
       "      <td>...</td>\n",
       "      <td>...</td>\n",
       "      <td>...</td>\n",
       "      <td>...</td>\n",
       "      <td>...</td>\n",
       "      <td>...</td>\n",
       "      <td>...</td>\n",
       "    </tr>\n",
       "    <tr>\n",
       "      <th>109</th>\n",
       "      <td>2021-04-21T18:47:59.301673</td>\n",
       "      <td>2 ½ rooms apartment</td>\n",
       "      <td>Nelkenweg 8, 3006 Bern</td>\n",
       "      <td>NaN</td>\n",
       "      <td>1450.0</td>\n",
       "      <td>2 ½ rooms , 60m²</td>\n",
       "      <td>3006</td>\n",
       "      <td>Bern</td>\n",
       "      <td>2.5</td>\n",
       "      <td>60</td>\n",
       "      <td>False</td>\n",
       "    </tr>\n",
       "    <tr>\n",
       "      <th>110</th>\n",
       "      <td>2021-04-21T20:54:29.044923</td>\n",
       "      <td>1 room apartment</td>\n",
       "      <td>Indermühleweg 17, 3018 Bern</td>\n",
       "      <td>NaN</td>\n",
       "      <td>760.0</td>\n",
       "      <td>1 rooms</td>\n",
       "      <td>3018</td>\n",
       "      <td>Bern</td>\n",
       "      <td>NaN</td>\n",
       "      <td>None</td>\n",
       "      <td>False</td>\n",
       "    </tr>\n",
       "    <tr>\n",
       "      <th>111</th>\n",
       "      <td>2021-04-21T21:27:25.334129</td>\n",
       "      <td>2 ½ rooms apartment</td>\n",
       "      <td>Hilfikerstrasse 4, 3014 Bern</td>\n",
       "      <td>NaN</td>\n",
       "      <td>1750.0</td>\n",
       "      <td>2 ½ rooms , 56m²</td>\n",
       "      <td>3014</td>\n",
       "      <td>Bern</td>\n",
       "      <td>2.5</td>\n",
       "      <td>56</td>\n",
       "      <td>False</td>\n",
       "    </tr>\n",
       "    <tr>\n",
       "      <th>112</th>\n",
       "      <td>2021-04-22T00:21:51.388978</td>\n",
       "      <td>Underground slot</td>\n",
       "      <td>Wabernstrasse 41, 3007 Bern</td>\n",
       "      <td>NaN</td>\n",
       "      <td>120.0</td>\n",
       "      <td>NaN</td>\n",
       "      <td>3007</td>\n",
       "      <td>Bern</td>\n",
       "      <td>NaN</td>\n",
       "      <td>None</td>\n",
       "      <td>False</td>\n",
       "    </tr>\n",
       "    <tr>\n",
       "      <th>113</th>\n",
       "      <td>2021-04-22T08:33:16.874759</td>\n",
       "      <td>Room in a shared flat</td>\n",
       "      <td>Mösliweg 11, 3098 Köniz</td>\n",
       "      <td>**Temporary , Furnished**</td>\n",
       "      <td>650.0</td>\n",
       "      <td>1 rooms , 16m²</td>\n",
       "      <td>3098</td>\n",
       "      <td>Köniz</td>\n",
       "      <td>1.0</td>\n",
       "      <td>16</td>\n",
       "      <td>True</td>\n",
       "    </tr>\n",
       "  </tbody>\n",
       "</table>\n",
       "<p>114 rows × 11 columns</p>\n",
       "</div>"
      ],
      "text/plain": [
       "                           date            description  \\\n",
       "0    2021-04-09T11:10:56.103828      3 rooms apartment   \n",
       "1    2021-04-09T15:39:18.600911    2 ½ rooms apartment   \n",
       "2    2021-04-09T15:39:18.600982    2 ½ rooms apartment   \n",
       "3    2021-04-09T15:39:18.601030    4 ½ rooms apartment   \n",
       "4    2021-04-09T17:01:22.411888      2 rooms apartment   \n",
       "..                          ...                    ...   \n",
       "109  2021-04-21T18:47:59.301673    2 ½ rooms apartment   \n",
       "110  2021-04-21T20:54:29.044923       1 room apartment   \n",
       "111  2021-04-21T21:27:25.334129    2 ½ rooms apartment   \n",
       "112  2021-04-22T00:21:51.388978       Underground slot   \n",
       "113  2021-04-22T08:33:16.874759  Room in a shared flat   \n",
       "\n",
       "                                 address            additional_info   price  \\\n",
       "0    Schermenweg 182, 3072 Ostermundigen                        NaN  1310.0   \n",
       "1          Grauholzstr. 78, 3063 Ittigen                        NaN  1250.0   \n",
       "2          Grauholzstr. 78, 3063 Ittigen                        NaN  1250.0   \n",
       "3          Grauholzstr. 76, 3063 Ittigen                        NaN  1710.0   \n",
       "4         Murtenstrasse 143 B, 3008 Bern                        NaN  1350.0   \n",
       "..                                   ...                        ...     ...   \n",
       "109               Nelkenweg 8, 3006 Bern                        NaN  1450.0   \n",
       "110          Indermühleweg 17, 3018 Bern                        NaN   760.0   \n",
       "111         Hilfikerstrasse 4, 3014 Bern                        NaN  1750.0   \n",
       "112          Wabernstrasse 41, 3007 Bern                        NaN   120.0   \n",
       "113              Mösliweg 11, 3098 Köniz  **Temporary , Furnished**   650.0   \n",
       "\n",
       "                 rooms post_code           city  num_rooms  size  shared  \n",
       "0       3 rooms , 65m²      3072  Ostermundigen        3.0    65   False  \n",
       "1     2 ½ rooms , 68m²      3063        Ittigen        2.5    68   False  \n",
       "2     2 ½ rooms , 68m²      3063        Ittigen        2.5    68   False  \n",
       "3    4 ½ rooms , 113m²      3063        Ittigen        4.5   113   False  \n",
       "4       2 rooms , 40m²      3008           Bern        2.0    40   False  \n",
       "..                 ...       ...            ...        ...   ...     ...  \n",
       "109   2 ½ rooms , 60m²      3006           Bern        2.5    60   False  \n",
       "110            1 rooms      3018           Bern        NaN  None   False  \n",
       "111   2 ½ rooms , 56m²      3014           Bern        2.5    56   False  \n",
       "112                NaN      3007           Bern        NaN  None   False  \n",
       "113     1 rooms , 16m²      3098          Köniz        1.0    16    True  \n",
       "\n",
       "[114 rows x 11 columns]"
      ]
     },
     "execution_count": 56,
     "metadata": {},
     "output_type": "execute_result"
    }
   ],
   "source": [
    "df"
   ]
  },
  {
   "cell_type": "code",
   "execution_count": 33,
   "metadata": {},
   "outputs": [
    {
     "data": {
      "text/plain": [
       "'3002'"
      ]
     },
     "execution_count": 33,
     "metadata": {},
     "output_type": "execute_result"
    }
   ],
   "source": [
    "s = \"street name, 4201, 3002 Somethign by Bern\"\n",
    "\n",
    "\n",
    "\n",
    "get_post_code(s)"
   ]
  },
  {
   "cell_type": "code",
   "execution_count": 25,
   "metadata": {},
   "outputs": [
    {
     "data": {
      "text/plain": [
       "'3002'"
      ]
     },
     "execution_count": 25,
     "metadata": {},
     "output_type": "execute_result"
    }
   ],
   "source": [
    "re.findall(postcode, s)[-1].strip()"
   ]
  },
  {
   "cell_type": "code",
   "execution_count": null,
   "metadata": {},
   "outputs": [],
   "source": [
    "def get_num_rooms(description):\n",
    "    try:\n",
    "        if \"Room in a shared\" in description:\n",
    "            return 1\n",
    "        comps = description.split()\n",
    "\n",
    "        if comps[1] in (\"rooms\", \"room\"):\n",
    "            num_rooms = float(comps[0])\n",
    "            return num_rooms\n",
    "\n",
    "        if comps[2] in (\"rooms\", \"room\") and comps[1] == \"½\":\n",
    "            num_rooms = float(comps[0]) + 0.5\n",
    "            return num_rooms\n",
    "    except IndexError as ie:\n",
    "        return None\n",
    "\n",
    "\n",
    "def test_get_rooms():\n",
    "    tests = {\n",
    "        \"3 rooms apartment\": 3.0,\n",
    "        \"2 ½ rooms apartment\": 2.5,\n",
    "        \"1 room apartment\": 1,\n",
    "        \"Underground slot\": None,\n",
    "        \"Room in a shared flat\": 1}\n",
    "    \n",
    "    for test in tests:\n",
    "        assert get_num_rooms(test) == tests[test]"
   ]
  }
 ],
 "metadata": {
  "kernelspec": {
   "display_name": "Python 3",
   "language": "python",
   "name": "python3"
  },
  "language_info": {
   "codemirror_mode": {
    "name": "ipython",
    "version": 3
   },
   "file_extension": ".py",
   "mimetype": "text/x-python",
   "name": "python",
   "nbconvert_exporter": "python",
   "pygments_lexer": "ipython3",
   "version": "3.8.7"
  }
 },
 "nbformat": 4,
 "nbformat_minor": 4
}
